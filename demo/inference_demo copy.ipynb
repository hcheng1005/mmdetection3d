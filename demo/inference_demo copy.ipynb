{
 "cells": [
  {
   "cell_type": "code",
   "execution_count": null,
   "metadata": {
    "pycharm": {
     "is_executing": false
    }
   },
   "outputs": [],
   "source": [
    "from argparse import ArgumentParser\n",
    "\n",
    "from mmdet3d.apis import inference_detector, init_model\n",
    "from mmdet3d.registry import VISUALIZERS\n"
   ]
  },
  {
   "cell_type": "code",
   "execution_count": null,
   "metadata": {},
   "outputs": [],
   "source": [
    "cfg = '../configs/pointpillars/pointpillars_hv_secfpn_sbn-all_8xb4-2x_nus-3d.py'\n",
    "ckp = '../checkpoints/nuscenes/hv_pointpillars_secfpn_sbn-all_4x8_2x_nus-3d_20210826_225857-f19d00a3.pth'\n",
    "pc_file = './data/nuscenes/n015-2018-07-24-11-22-45+0800__LIDAR_TOP__1532402931697833.pcd.bin'\n",
    "\n",
    "model = init_model(cfg, ckp, device='cuda:0')\n",
    "\n",
    "# init visualizer\n",
    "visualizer = VISUALIZERS.build(model.cfg.visualizer)\n",
    "visualizer.dataset_meta = model.dataset_meta\n",
    "\n",
    "# test a single point cloud sample\n",
    "result, data = inference_detector(model, pc_file)\n",
    "points = data['inputs']['points']\n",
    "data_input = dict(points=points)\n"
   ]
  },
  {
   "cell_type": "code",
   "execution_count": 29,
   "metadata": {},
   "outputs": [
    {
     "name": "stdout",
     "output_type": "stream",
     "text": [
      "<InstanceData(\n",
      "\n",
      "    META INFORMATION\n",
      "\n",
      "    DATA FIELDS\n",
      "    bboxes_3d: LiDARInstance3DBoxes(\n",
      "            tensor([[ 3.1719e+01,  3.1046e+01, -1.4844e+00,  4.6079e+00,  1.9960e+00,\n",
      "                  1.7437e+00,  3.1281e+00, -5.0858e-04, -1.0028e-03],\n",
      "                [-4.9443e+00, -1.6414e+01, -2.3599e+00,  1.1001e+01,  3.0373e+00,\n",
      "                  3.8518e+00,  1.5304e+00,  2.7570e-03,  2.1321e-02],\n",
      "                [-3.1322e+00,  2.3541e+01, -1.0369e+00,  5.1705e+00,  2.0584e+00,\n",
      "                  2.3025e+00,  1.9500e+00, -2.4922e-03,  7.7861e-03]]))\n",
      "    labels_3d: tensor([0, 1, 1])\n",
      "    scores_3d: tensor([0.6693, 0.9264, 0.6380])\n",
      ") at 0x7fe5a281b160>\n"
     ]
    },
    {
     "data": {
      "text/plain": [
       "array([[ 3.1719343e+01,  3.1045593e+01, -1.4843584e+00,  4.6079402e+00,\n",
       "         1.9959719e+00,  1.7436833e+00,  3.1280856e+00, -5.0858036e-04,\n",
       "        -1.0028327e-03],\n",
       "       [-4.9443173e+00, -1.6413931e+01, -2.3599367e+00,  1.1001430e+01,\n",
       "         3.0373487e+00,  3.8518381e+00,  1.5303512e+00,  2.7570082e-03,\n",
       "         2.1320514e-02],\n",
       "       [-3.1321640e+00,  2.3540638e+01, -1.0369489e+00,  5.1705084e+00,\n",
       "         2.0584388e+00,  2.3024929e+00,  1.9500339e+00, -2.4922418e-03,\n",
       "         7.7861175e-03]], dtype=float32)"
      ]
     },
     "execution_count": 29,
     "metadata": {},
     "output_type": "execute_result"
    }
   ],
   "source": [
    "pred_instances_3d = result.pred_instances_3d\n",
    "pred_instances_3d = pred_instances_3d[pred_instances_3d.scores_3d > 0.6].to('cpu')\n",
    "print(pred_instances_3d)\n",
    "bboxes_3d = pred_instances_3d.bboxes_3d\n",
    "bboxes_3d.tensor.cpu().numpy()\n",
    "\n",
    "# labels_3d = pred_instances_3d.labels_3d\n",
    "# labels_3d.cpu().numpy()\n",
    "\n",
    "# scores_3d = pred_instances_3d.scores_3d\n",
    "# scores_3d.cpu().numpy()\n",
    "\n"
   ]
  }
 ],
 "metadata": {
  "interpreter": {
   "hash": "a0c343fece975dd89087e8c2194dd4d3db28d7000f1b32ed9ed9d584dd54dbbe"
  },
  "kernelspec": {
   "display_name": "Python 3.7.6 64-bit ('torch1.7-cu10.1': conda)",
   "name": "python3"
  },
  "language_info": {
   "codemirror_mode": {
    "name": "ipython",
    "version": 3
   },
   "file_extension": ".py",
   "mimetype": "text/x-python",
   "name": "python",
   "nbconvert_exporter": "python",
   "pygments_lexer": "ipython3",
   "version": "3.9.7"
  },
  "pycharm": {
   "stem_cell": {
    "cell_type": "raw",
    "metadata": {
     "collapsed": false
    },
    "source": []
   }
  }
 },
 "nbformat": 4,
 "nbformat_minor": 4
}
